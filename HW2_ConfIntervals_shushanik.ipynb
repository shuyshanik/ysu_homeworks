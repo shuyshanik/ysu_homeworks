{
  "cells": [
    {
      "cell_type": "markdown",
      "id": "c738c6ab",
      "metadata": {
        "id": "c738c6ab"
      },
      "source": [
        "1. Пусть $X∼F(x)$ — случайная величина с произвольным распределением, неизвестным математическим ожиданием EX и известной дисперсией DX. Как выглядит доверительный интервал для EX с приближённым уровнем доверия 100(1−α)%?\n",
        "\n",
        "A.         $\\bar{X}_{n}\\pm z_{1-\\frac{\\alpha}{2}}\\frac{DX}{\\sqrt{n}}$ </br>\n",
        "</br>\n",
        "B.         $\\bar{X}_{n}\\pm t_{n-1, 1-\\frac{\\alpha}{2}}\\sqrt{\\frac{DX}{n}}$ </br>\n",
        "</br>\n",
        "C.         $\\bar{X}_{n}\\pm z_{1-\\frac{\\alpha}{2}}{\\sqrt\\frac{DX}{n}}$ </br>\n",
        "</br>\n",
        "D.         $\\bar{X}_{n}\\pm z_{1-\\alpha}\\sqrt{\\frac{DX}{n}}$ </br>"
      ]
    },
    {
      "cell_type": "code",
      "execution_count": null,
      "id": "204cdcfc",
      "metadata": {
        "id": "204cdcfc"
      },
      "outputs": [],
      "source": [
        "# 1. C\n",
        "\n",
        "# interval = z_value * (st_dev / np.sqrt(sample_size))\n",
        "# conf_int = (sample_mean - interval, sample_mean + interval)"
      ]
    },
    {
      "cell_type": "markdown",
      "id": "799cda09",
      "metadata": {
        "id": "799cda09"
      },
      "source": [
        "2. Для 61 большого города в Англии и Уэльсе известны средняя годовая смертность на 100000 населения (по данным 1958–1964) и концентрация кальция в питьевой воде (в частях на миллион). Чем выше концентрация кальция, тем жёстче вода. Города дополнительно поделены на северные и южные."
      ]
    },
    {
      "cell_type": "code",
      "source": [
        "import numpy as np\n",
        "import pandas as pd\n",
        "from scipy import stats\n",
        "import matplotlib.pyplot as plt\n",
        "import random\n",
        "from tqdm import tqdm\n",
        "plt.style.use('ggplot')\n",
        "from PIL import Image"
      ],
      "metadata": {
        "id": "hjAAQvG3v68l"
      },
      "id": "hjAAQvG3v68l",
      "execution_count": null,
      "outputs": []
    },
    {
      "cell_type": "code",
      "execution_count": null,
      "id": "473e4f61",
      "metadata": {
        "id": "473e4f61"
      },
      "outputs": [],
      "source": [
        "# Load water.txt file\n",
        "df = pd.read_csv('/content/water.csv', sep='\\t')"
      ]
    },
    {
      "cell_type": "code",
      "source": [
        "df.head()"
      ],
      "metadata": {
        "colab": {
          "base_uri": "https://localhost:8080/",
          "height": 206
        },
        "id": "Ltcgnq6ZvEPi",
        "outputId": "c6e2ed4e-4bad-4a1e-bae6-860fc8a4dddc"
      },
      "id": "Ltcgnq6ZvEPi",
      "execution_count": null,
      "outputs": [
        {
          "output_type": "execute_result",
          "data": {
            "text/plain": [
              "  location        town  mortality  hardness\n",
              "0    South        Bath       1247       105\n",
              "1    North  Birkenhead       1668        17\n",
              "2    South  Birmingham       1466         5\n",
              "3    North   Blackburn       1800        14\n",
              "4    North   Blackpool       1609        18"
            ],
            "text/html": [
              "\n",
              "  <div id=\"df-13741363-3e06-4642-b66c-7212773e1668\">\n",
              "    <div class=\"colab-df-container\">\n",
              "      <div>\n",
              "<style scoped>\n",
              "    .dataframe tbody tr th:only-of-type {\n",
              "        vertical-align: middle;\n",
              "    }\n",
              "\n",
              "    .dataframe tbody tr th {\n",
              "        vertical-align: top;\n",
              "    }\n",
              "\n",
              "    .dataframe thead th {\n",
              "        text-align: right;\n",
              "    }\n",
              "</style>\n",
              "<table border=\"1\" class=\"dataframe\">\n",
              "  <thead>\n",
              "    <tr style=\"text-align: right;\">\n",
              "      <th></th>\n",
              "      <th>location</th>\n",
              "      <th>town</th>\n",
              "      <th>mortality</th>\n",
              "      <th>hardness</th>\n",
              "    </tr>\n",
              "  </thead>\n",
              "  <tbody>\n",
              "    <tr>\n",
              "      <th>0</th>\n",
              "      <td>South</td>\n",
              "      <td>Bath</td>\n",
              "      <td>1247</td>\n",
              "      <td>105</td>\n",
              "    </tr>\n",
              "    <tr>\n",
              "      <th>1</th>\n",
              "      <td>North</td>\n",
              "      <td>Birkenhead</td>\n",
              "      <td>1668</td>\n",
              "      <td>17</td>\n",
              "    </tr>\n",
              "    <tr>\n",
              "      <th>2</th>\n",
              "      <td>South</td>\n",
              "      <td>Birmingham</td>\n",
              "      <td>1466</td>\n",
              "      <td>5</td>\n",
              "    </tr>\n",
              "    <tr>\n",
              "      <th>3</th>\n",
              "      <td>North</td>\n",
              "      <td>Blackburn</td>\n",
              "      <td>1800</td>\n",
              "      <td>14</td>\n",
              "    </tr>\n",
              "    <tr>\n",
              "      <th>4</th>\n",
              "      <td>North</td>\n",
              "      <td>Blackpool</td>\n",
              "      <td>1609</td>\n",
              "      <td>18</td>\n",
              "    </tr>\n",
              "  </tbody>\n",
              "</table>\n",
              "</div>\n",
              "      <button class=\"colab-df-convert\" onclick=\"convertToInteractive('df-13741363-3e06-4642-b66c-7212773e1668')\"\n",
              "              title=\"Convert this dataframe to an interactive table.\"\n",
              "              style=\"display:none;\">\n",
              "        \n",
              "  <svg xmlns=\"http://www.w3.org/2000/svg\" height=\"24px\"viewBox=\"0 0 24 24\"\n",
              "       width=\"24px\">\n",
              "    <path d=\"M0 0h24v24H0V0z\" fill=\"none\"/>\n",
              "    <path d=\"M18.56 5.44l.94 2.06.94-2.06 2.06-.94-2.06-.94-.94-2.06-.94 2.06-2.06.94zm-11 1L8.5 8.5l.94-2.06 2.06-.94-2.06-.94L8.5 2.5l-.94 2.06-2.06.94zm10 10l.94 2.06.94-2.06 2.06-.94-2.06-.94-.94-2.06-.94 2.06-2.06.94z\"/><path d=\"M17.41 7.96l-1.37-1.37c-.4-.4-.92-.59-1.43-.59-.52 0-1.04.2-1.43.59L10.3 9.45l-7.72 7.72c-.78.78-.78 2.05 0 2.83L4 21.41c.39.39.9.59 1.41.59.51 0 1.02-.2 1.41-.59l7.78-7.78 2.81-2.81c.8-.78.8-2.07 0-2.86zM5.41 20L4 18.59l7.72-7.72 1.47 1.35L5.41 20z\"/>\n",
              "  </svg>\n",
              "      </button>\n",
              "      \n",
              "  <style>\n",
              "    .colab-df-container {\n",
              "      display:flex;\n",
              "      flex-wrap:wrap;\n",
              "      gap: 12px;\n",
              "    }\n",
              "\n",
              "    .colab-df-convert {\n",
              "      background-color: #E8F0FE;\n",
              "      border: none;\n",
              "      border-radius: 50%;\n",
              "      cursor: pointer;\n",
              "      display: none;\n",
              "      fill: #1967D2;\n",
              "      height: 32px;\n",
              "      padding: 0 0 0 0;\n",
              "      width: 32px;\n",
              "    }\n",
              "\n",
              "    .colab-df-convert:hover {\n",
              "      background-color: #E2EBFA;\n",
              "      box-shadow: 0px 1px 2px rgba(60, 64, 67, 0.3), 0px 1px 3px 1px rgba(60, 64, 67, 0.15);\n",
              "      fill: #174EA6;\n",
              "    }\n",
              "\n",
              "    [theme=dark] .colab-df-convert {\n",
              "      background-color: #3B4455;\n",
              "      fill: #D2E3FC;\n",
              "    }\n",
              "\n",
              "    [theme=dark] .colab-df-convert:hover {\n",
              "      background-color: #434B5C;\n",
              "      box-shadow: 0px 1px 3px 1px rgba(0, 0, 0, 0.15);\n",
              "      filter: drop-shadow(0px 1px 2px rgba(0, 0, 0, 0.3));\n",
              "      fill: #FFFFFF;\n",
              "    }\n",
              "  </style>\n",
              "\n",
              "      <script>\n",
              "        const buttonEl =\n",
              "          document.querySelector('#df-13741363-3e06-4642-b66c-7212773e1668 button.colab-df-convert');\n",
              "        buttonEl.style.display =\n",
              "          google.colab.kernel.accessAllowed ? 'block' : 'none';\n",
              "\n",
              "        async function convertToInteractive(key) {\n",
              "          const element = document.querySelector('#df-13741363-3e06-4642-b66c-7212773e1668');\n",
              "          const dataTable =\n",
              "            await google.colab.kernel.invokeFunction('convertToInteractive',\n",
              "                                                     [key], {});\n",
              "          if (!dataTable) return;\n",
              "\n",
              "          const docLinkHtml = 'Like what you see? Visit the ' +\n",
              "            '<a target=\"_blank\" href=https://colab.research.google.com/notebooks/data_table.ipynb>data table notebook</a>'\n",
              "            + ' to learn more about interactive tables.';\n",
              "          element.innerHTML = '';\n",
              "          dataTable['output_type'] = 'display_data';\n",
              "          await google.colab.output.renderOutput(dataTable, element);\n",
              "          const docLink = document.createElement('div');\n",
              "          docLink.innerHTML = docLinkHtml;\n",
              "          element.appendChild(docLink);\n",
              "        }\n",
              "      </script>\n",
              "    </div>\n",
              "  </div>\n",
              "  "
            ]
          },
          "metadata": {},
          "execution_count": 3
        }
      ]
    },
    {
      "cell_type": "markdown",
      "id": "3f25d5f0",
      "metadata": {
        "id": "3f25d5f0"
      },
      "source": [
        "Постройте 95% доверительный интервал для средней годовой смертности в больших городах. Чему равна его нижняя граница? Округлите ответ до 4 знаков после десятичной точки. </br>\n",
        " </br>\n",
        "  </br>\n",
        "   </br>\n",
        "**Будьте осторожны при использовании метода std()!** Дело в том, что у объекта numpy он по умолчанию вычисляется как\n",
        "$\\sqrt{\\frac{1}{n}\\sum_{i=1}^n(X_i-\\bar{X})}$, а у объекта pandas — как $\\sqrt{\\frac{1}{n-1}\\sum_{i=1}^n(X_i-\\bar{X})}$. </br>\n",
        " </br>\n",
        "Интересует только второй вариант, несмещённая оценка стандартного отклонения. </br>\n",
        " </br>\n",
        "Чтобы не думать всё время о том, правильно ли вычисляется в вашем случае std(), можно всегда использовать std(ddof=1) (ddof — difference in degrees of freedom), тогда нормировка всегда будет на n-1."
      ]
    },
    {
      "cell_type": "code",
      "execution_count": null,
      "id": "acef89ad",
      "metadata": {
        "id": "acef89ad"
      },
      "outputs": [],
      "source": [
        "# 2. Your answer here\n",
        "\n",
        "def compute_ci(sample, st_dev):\n",
        "    \n",
        "    z_value = stats.norm.ppf(q=0.975)\n",
        "    sample_size = len(sample)\n",
        "    interval = z_value * (st_dev / np.sqrt(sample_size))\n",
        "    conf_int = (sample.mean() - interval, sample.mean() + interval)\n",
        "    \n",
        "    return conf_int"
      ]
    },
    {
      "cell_type": "code",
      "source": [
        "compute_ci(df['mortality'], df['mortality'].std(ddof=1))"
      ],
      "metadata": {
        "colab": {
          "base_uri": "https://localhost:8080/"
        },
        "id": "L9wxKRkcIC-E",
        "outputId": "677b1ab8-973f-4efa-b85d-27c22d49438a"
      },
      "id": "L9wxKRkcIC-E",
      "execution_count": null,
      "outputs": [
        {
          "output_type": "execute_result",
          "data": {
            "text/plain": [
              "(1477.0525038218827, 1571.2425781453305)"
            ]
          },
          "metadata": {},
          "execution_count": 7
        }
      ]
    },
    {
      "cell_type": "markdown",
      "source": [
        "1477.0525"
      ],
      "metadata": {
        "id": "P0FFE8vtdSyB"
      },
      "id": "P0FFE8vtdSyB"
    },
    {
      "cell_type": "markdown",
      "id": "cf35b57d",
      "metadata": {
        "id": "cf35b57d"
      },
      "source": [
        "3. На данных из предыдущего вопроса постройте 95% доверительный интервал для средней годовой смертности по всем южным городам. Чему равна его верхняя граница? Округлите ответ до 4 знаков после десятичной точки."
      ]
    },
    {
      "cell_type": "code",
      "execution_count": null,
      "id": "76d5a9ab",
      "metadata": {
        "id": "76d5a9ab",
        "colab": {
          "base_uri": "https://localhost:8080/"
        },
        "outputId": "3b7a4909-50d5-480b-c869-836111618ea3"
      },
      "outputs": [
        {
          "output_type": "execute_result",
          "data": {
            "text/plain": [
              "(1322.8909479237761, 1430.7244366916086)"
            ]
          },
          "metadata": {},
          "execution_count": 9
        }
      ],
      "source": [
        "# 3. Your answer here\n",
        "compute_ci(df[df.location == 'South'][\"mortality\"], df[df.location == 'South'][\"mortality\"].std(ddof=1))"
      ]
    },
    {
      "cell_type": "markdown",
      "source": [
        "1430.7244"
      ],
      "metadata": {
        "id": "nHhqffHNOvyi"
      },
      "id": "nHhqffHNOvyi"
    },
    {
      "cell_type": "markdown",
      "id": "b21125ee",
      "metadata": {
        "id": "b21125ee"
      },
      "source": [
        "4. На тех же данных постройте 95% доверительный интервал для средней годовой смертности по всем северным городам. Пересекается ли этот интервал с предыдущим? Как вы думаете, какой из этого можно сделать вывод? "
      ]
    },
    {
      "cell_type": "code",
      "execution_count": null,
      "id": "b743fb9a",
      "metadata": {
        "id": "b743fb9a",
        "colab": {
          "base_uri": "https://localhost:8080/"
        },
        "outputId": "2c32a4b3-a9b0-4245-96f4-d1f96b49693a"
      },
      "outputs": [
        {
          "output_type": "execute_result",
          "data": {
            "text/plain": [
              "(1588.2335708894593, 1678.9664291105405)"
            ]
          },
          "metadata": {},
          "execution_count": 10
        }
      ],
      "source": [
        "# 4. Your answer here\n",
        "compute_ci(df[df.location == 'North'][\"mortality\"], df[df.location == 'North'][\"mortality\"].std(ddof=1))"
      ]
    },
    {
      "cell_type": "markdown",
      "source": [
        "Mortality in South - [1322.8909, 1430.7244]\n",
        "\n",
        "---\n",
        "\n",
        "\n",
        "Mortality in North - [1588.2335, 1678.9664]\n",
        "\n",
        "---\n",
        "Mortality in North is much more than mortality in South\n"
      ],
      "metadata": {
        "id": "WCiHqOR_QBKa"
      },
      "id": "WCiHqOR_QBKa"
    },
    {
      "cell_type": "markdown",
      "id": "259265ab",
      "metadata": {
        "id": "259265ab"
      },
      "source": [
        "5. Пересекаются ли 95% доверительные интервалы для средней жёсткости воды в северных и южных городах?\n",
        "\n",
        "A. Пересекаются </br>\n",
        "B. Не пересекаются "
      ]
    },
    {
      "cell_type": "code",
      "execution_count": null,
      "id": "8cb7f195",
      "metadata": {
        "id": "8cb7f195",
        "colab": {
          "base_uri": "https://localhost:8080/"
        },
        "outputId": "62d16844-1c9b-47fb-f6d8-54cb20312fd6"
      },
      "outputs": [
        {
          "output_type": "stream",
          "name": "stdout",
          "text": [
            "North:  (21.741789085882083, 39.058210914117915)\n",
            "South:  (54.255369325168935, 85.2830922132926)\n"
          ]
        }
      ],
      "source": [
        "# 5. Your answer here\n",
        "print(\"North: \", compute_ci(df[df.location == 'North'][\"hardness\"], df[df.location == 'North'][\"hardness\"].std(ddof=1)))\n",
        "print(\"South: \", compute_ci(df[df.location == 'South'][\"hardness\"], df[df.location == 'South'][\"hardness\"].std(ddof=1)))"
      ]
    },
    {
      "cell_type": "markdown",
      "id": "c208c275",
      "metadata": {
        "id": "c208c275"
      },
      "source": [
        "6. Вспомним формулу доверительного интервала для среднего нормально распределённой случайной величины с дисперсией $\\sigma^2$: </br>\n",
        "$\\bar{X}_{n}\\pm z_{1-\\frac{\\alpha}{2}}\\frac{\\sigma}{\\sqrt{n}}$ </br>\n",
        "При $\\sigma = 1$ какой нужен объём выборки, чтобы на уровне доверия 95% оценить среднее с точностью $\\pm0.1$?"
      ]
    },
    {
      "cell_type": "code",
      "execution_count": null,
      "id": "9c12e015",
      "metadata": {
        "id": "9c12e015",
        "colab": {
          "base_uri": "https://localhost:8080/"
        },
        "outputId": "880e00e2-e7af-4d49-c76f-4c5f574895f6"
      },
      "outputs": [
        {
          "output_type": "execute_result",
          "data": {
            "text/plain": [
              "384.14588206941244"
            ]
          },
          "metadata": {},
          "execution_count": 4
        }
      ],
      "source": [
        "# 6. Your answer here\n",
        "z_value = stats.norm.ppf(q=0.975)\n",
        "(z_value / 0.1)**2"
      ]
    },
    {
      "cell_type": "markdown",
      "source": [
        "385"
      ],
      "metadata": {
        "id": "jk4nN4WYfSE6"
      },
      "id": "jk4nN4WYfSE6"
    },
    {
      "cell_type": "markdown",
      "id": "6759055f",
      "metadata": {
        "id": "6759055f"
      },
      "source": [
        "7. Объём выборки, необходимый для построения доверительного интервала заданной ширины: </br>\n",
        "A. увеличивается с уменьшением требуемой ширины, </br>\n",
        "B. уменьшается с ростом дисперсии выборки, </br>\n",
        "C. увеличивается с увеличением требуемой ширины, </br>\n",
        "D. увеличивается с ростом дисперсии выборки, </br>\n",
        "E. увеличивается с ростом $\\alpha$, </br>\n",
        "F. уменьшается с ростом $\\alpha$. </br>"
      ]
    },
    {
      "cell_type": "code",
      "execution_count": null,
      "id": "b448fe98",
      "metadata": {
        "id": "b448fe98"
      },
      "outputs": [],
      "source": [
        "# 7. Your answer here\n",
        "# A, D, F"
      ]
    },
    {
      "cell_type": "markdown",
      "id": "3b15eb63",
      "metadata": {
        "id": "3b15eb63"
      },
      "source": [
        "8. Давайте уточним правило трёх сигм. Утверждение: 99.7% вероятностной массы случайной величины $X∼N(\\mu,\\sigma^2)$ лежит в интервале $\\mu±c⋅\\sigma$. Чему равно точное значение константы c? Округлите ответ до четырёх знаков после десятичной точки."
      ]
    },
    {
      "cell_type": "code",
      "execution_count": null,
      "id": "fe5fa1d5",
      "metadata": {
        "id": "fe5fa1d5",
        "colab": {
          "base_uri": "https://localhost:8080/"
        },
        "outputId": "30fc2543-c952-4c21-f83c-7daf758aee5a"
      },
      "outputs": [
        {
          "output_type": "execute_result",
          "data": {
            "text/plain": [
              "2.9677379253417944"
            ]
          },
          "metadata": {},
          "execution_count": 5
        }
      ],
      "source": [
        "# 8. Your answer here\n",
        "stats.norm.ppf(q=1-0.003/2)"
      ]
    },
    {
      "cell_type": "markdown",
      "id": "7f0a3b60",
      "metadata": {
        "id": "7f0a3b60"
      },
      "source": [
        "9. Пусть $X∼N(\\mu,\\sigma^2)$. Какое распределение имеет величина $\\frac{\\bar{X}_n - \\mu}{S_n/\\sqrt{n}}$? </br>\n",
        "A. $St(n-1)$ </br>\n",
        "</br>\n",
        "B. $N(0, 1)$ </br>\n",
        "</br>\n",
        "C. $\\chi_{n-1}^2$ </br>"
      ]
    },
    {
      "cell_type": "code",
      "execution_count": null,
      "id": "893230f3",
      "metadata": {
        "id": "893230f3"
      },
      "outputs": [],
      "source": [
        "# 9. Your answer here\n",
        "# A"
      ]
    },
    {
      "cell_type": "markdown",
      "id": "b6e6d4c6",
      "metadata": {
        "id": "b6e6d4c6"
      },
      "source": [
        "10. Выберите все распределения с несимметричной функцией плотности: </br>\n",
        "\n",
        "A. Фишера, </br>\n",
        "B. Стьюдента, </br>\n",
        "C. хи-квадрат, </br>\n",
        "D. Гаусса"
      ]
    },
    {
      "cell_type": "code",
      "execution_count": null,
      "id": "00e276d1",
      "metadata": {
        "id": "00e276d1"
      },
      "outputs": [],
      "source": [
        "# 10. Your answer here\n",
        "# A, C"
      ]
    }
  ],
  "metadata": {
    "kernelspec": {
      "display_name": "stats",
      "language": "python",
      "name": "stats"
    },
    "language_info": {
      "codemirror_mode": {
        "name": "ipython",
        "version": 3
      },
      "file_extension": ".py",
      "mimetype": "text/x-python",
      "name": "python",
      "nbconvert_exporter": "python",
      "pygments_lexer": "ipython3",
      "version": "3.10.8"
    },
    "colab": {
      "provenance": []
    }
  },
  "nbformat": 4,
  "nbformat_minor": 5
}