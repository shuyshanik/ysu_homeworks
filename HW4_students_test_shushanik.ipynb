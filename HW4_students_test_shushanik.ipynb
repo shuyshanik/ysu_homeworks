{
  "cells": [
    {
      "cell_type": "markdown",
      "id": "46bb61a9",
      "metadata": {
        "id": "46bb61a9"
      },
      "source": [
        "**1**. Пусть t  — значение статистики критерия Стьюдента для независимых выборок, $\\nu$  —  соответствующее число степеней свободы. Какая из строчек кода вычисляет достигаемый уровень значимости t-критерия при альтернативе $H_1: \\mu_1>\\mu_2$?\n",
        "\n",
        "1. 1-stats.t.cdf(abs(t), nu)\n",
        "\n",
        "2. 2*(1-stats.t.cdf(abs(t), nu))\n",
        "\n",
        "3. stats.t.cdf(abs(t), nu)\n",
        "\n",
        "4. 1-stats.t.cdf(t, nu)\n",
        "\n",
        "5. stats.t.cdf(t, nu)"
      ]
    },
    {
      "cell_type": "code",
      "execution_count": null,
      "id": "8b926fc9",
      "metadata": {
        "id": "8b926fc9"
      },
      "outputs": [],
      "source": [
        "# 1. Your answer here\n",
        "# 4"
      ]
    },
    {
      "cell_type": "markdown",
      "id": "389d61d9",
      "metadata": {
        "id": "389d61d9"
      },
      "source": [
        "**2**. Выберите ситуации, в которых допустимо проверять нулевую гипотезу $H_0: \\mu_1=\\mu_2$ против односторонней альтернативы $H_1: \\mu_1>\\mu_2$\n",
        "\n",
        "1. Случай $\\mu_1<\\mu_2$ нас не интересует: например, если $X_1$ — это эффективность изобретённого нами лекарства, а $X_2$ — эффективность плацебо, не в наших интересах брать двустороннюю альтернативу, потому что мы не хотим ненароком показать, что лекарство хуже плацебо.\n",
        "\n",
        "2. В полученных выборках $\\bar X_1 > \\bar X_2 $.\n",
        "\n",
        "3. Признаки устроены так, что $\\mu_1<\\mu_2$ в принципе невозможно."
      ]
    },
    {
      "cell_type": "code",
      "execution_count": null,
      "id": "60c8d3dd",
      "metadata": {
        "id": "60c8d3dd"
      },
      "outputs": [],
      "source": [
        "# 2. Your answer here\n",
        "# 1, 3"
      ]
    },
    {
      "cell_type": "markdown",
      "id": "59927767",
      "metadata": {
        "id": "59927767"
      },
      "source": [
        "**3**. Выберите верные утверждения о проблеме Беренца-Фишера.\n",
        "\n",
        "\n",
        "1. Проблема заключается в том, что не существует точного способа сравнить средние двух выборок с неизвестными дисперсиями.\n",
        "\n",
        "2. Проблема заключается в том, что при сравнении средних двух выборок с неизвестными дисперсиями нельзя даже приближённо посчитать число степеней свободы у нулевого распределения t-критерия.\n",
        "\n",
        "3. Приближённое решение проблемы Беренца-Фишера достаточно точно при $n_1 = n_2$.\n",
        "\n",
        "4. Приближённое решение проблемы Беренца-Фишера достаточно точно при $[n_1>n_2] = [\\sigma_1<\\sigma_2]$"
      ]
    },
    {
      "cell_type": "code",
      "execution_count": null,
      "id": "9e8c0362",
      "metadata": {
        "id": "9e8c0362"
      },
      "outputs": [],
      "source": [
        "# 3. Your answer here \n",
        "# 1, 3"
      ]
    },
    {
      "cell_type": "markdown",
      "id": "c0a61c33",
      "metadata": {
        "id": "c0a61c33"
      },
      "source": [
        "**4**. Уровень кальция в крови здоровых молодых женщин равен в среднем 9.5 милиграммам на децилитр и имеет характерное стандартное отклонение 0.4 мг/дл. В сельской больнице Гватемалы для 160 здоровых беременных женщин при первом обращении для ведения беременности был измерен уровень кальция; среднее значение составило 9.57 мг/дл. Можно ли утверждать, что средний уровень кальция в этой популяции отличается от 9.5?\n",
        "\n",
        "Посчитайте достигаемый уровень значимости. Поскольку известны только среднее и дисперсия, а не сама выборка, нельзя использовать стандартные функции критериев — нужно реализовать формулу достигаемого уровня значимости самостоятельно.\n",
        "\n",
        "Округлите ответ до четырёх знаков после десятичной точки.\n",
        "1 балл\n"
      ]
    },
    {
      "cell_type": "code",
      "execution_count": 1,
      "id": "a7a71faf",
      "metadata": {
        "id": "a7a71faf"
      },
      "outputs": [],
      "source": [
        "# 4. Your answer here\n",
        "import math\n",
        "from scipy.stats import t"
      ]
    },
    {
      "cell_type": "code",
      "source": [
        "x_bar = 9.57\n",
        "mu = 9.5\n",
        "s = 0.4\n",
        "n = 160\n",
        "\n",
        "t_statistic = (x_bar - mu) / (s / math.sqrt(n))\n",
        "\n",
        "df = n - 1\n",
        "\n",
        "p_value = 2 * (1 - t.cdf(abs(t_statistic), df))\n",
        "\n",
        "print(\"t-statistic: \", round(t_statistic, 4))\n",
        "print(\"p-value: \", round(p_value, 4))"
      ],
      "metadata": {
        "colab": {
          "base_uri": "https://localhost:8080/"
        },
        "id": "4Nl0IqTvJtuh",
        "outputId": "028e1417-67f0-4489-b0c7-c25d0010a57e"
      },
      "id": "4Nl0IqTvJtuh",
      "execution_count": 2,
      "outputs": [
        {
          "output_type": "stream",
          "name": "stdout",
          "text": [
            "t-statistic:  2.2136\n",
            "p-value:  0.0283\n"
          ]
        }
      ]
    },
    {
      "cell_type": "markdown",
      "id": "8f7ed1ab",
      "metadata": {
        "id": "8f7ed1ab"
      },
      "source": [
        "**5**. Как вы считаете, это отличие в среднем уровне кальция в крови практически значимо?\n",
        "\n",
        "1. Нет, раз критерий Стьюдента говорит, что отличие незначимо.\n",
        "\n",
        "2. Да, раз критерий Стьюдента говорит, что отличие значимо.\n",
        "\n",
        "3. Скорее всего нет: стандартное отклонение уровня в популяции намного больше полученного различия между средними "
      ]
    },
    {
      "cell_type": "code",
      "execution_count": null,
      "id": "d12aa278",
      "metadata": {
        "id": "d12aa278"
      },
      "outputs": [],
      "source": [
        "# 5. Your answer here\n",
        "# 2"
      ]
    },
    {
      "cell_type": "markdown",
      "id": "e6effbf5",
      "metadata": {
        "id": "e6effbf5"
      },
      "source": [
        "**6**. Имеются данные о стоимости и размерах 53940 бриллиантов:\n",
        "Отделите 25% случайных наблюдений в тестовую выборку с помощью функции sklearn.model_selection.train_test_split (зафиксируйте random state = 1). На обучающей выборке настройте две регрессионные модели:\n",
        "\n",
        "    1. линейную регрессию с помощью LinearRegression без параметров\n",
        "    2. случайный лес из 10 деревьев с помощью RandomForestRegressor с random_state=1.\n",
        "Какая из моделей лучше предсказывает цену бриллиантов? Сделайте предсказания на тестовой выборке, посчитайте модули отклонений предсказаний от истинных цен. Проверьте гипотезу об одинаковом среднем качестве предсказаний, вычислите достигаемый уровень значимости. Отвергается ли гипотеза об одинаковом качестве моделей против двусторонней альтернативы на уровне значимости $\\alpha = 0.05$?"
      ]
    },
    {
      "cell_type": "code",
      "source": [
        "import numpy as np\n",
        "from scipy import stats\n",
        "from sklearn.model_selection import train_test_split\n",
        "from sklearn.linear_model import LinearRegression\n",
        "from sklearn.ensemble import RandomForestRegressor\n",
        "from statsmodels.stats.weightstats import CompareMeans, DescrStatsW"
      ],
      "metadata": {
        "id": "_3bpcHI3KU6H"
      },
      "id": "_3bpcHI3KU6H",
      "execution_count": 3,
      "outputs": []
    },
    {
      "cell_type": "code",
      "execution_count": 4,
      "id": "3d5a9c8f",
      "metadata": {
        "id": "3d5a9c8f"
      },
      "outputs": [],
      "source": [
        "import pandas as pd\n",
        "df = pd.read_table('diamonds.txt')"
      ]
    },
    {
      "cell_type": "code",
      "execution_count": null,
      "id": "f6b8dfba",
      "metadata": {
        "id": "f6b8dfba"
      },
      "outputs": [],
      "source": [
        "# 6. Your answer here"
      ]
    },
    {
      "cell_type": "code",
      "source": [
        "df.head()"
      ],
      "metadata": {
        "colab": {
          "base_uri": "https://localhost:8080/",
          "height": 206
        },
        "id": "2YXboaKVKZMa",
        "outputId": "deffec80-c246-46b5-a028-54c1a6197f19"
      },
      "id": "2YXboaKVKZMa",
      "execution_count": 5,
      "outputs": [
        {
          "output_type": "execute_result",
          "data": {
            "text/plain": [
              "   carat  depth  table  price     x     y     z\n",
              "0   0.23   61.5   55.0    326  3.95  3.98  2.43\n",
              "1   0.21   59.8   61.0    326  3.89  3.84  2.31\n",
              "2   0.23   56.9   65.0    327  4.05  4.07  2.31\n",
              "3   0.29   62.4   58.0    334  4.20  4.23  2.63\n",
              "4   0.31   63.3   58.0    335  4.34  4.35  2.75"
            ],
            "text/html": [
              "\n",
              "  <div id=\"df-87976e84-28d5-49d4-8a0d-b3250797d906\">\n",
              "    <div class=\"colab-df-container\">\n",
              "      <div>\n",
              "<style scoped>\n",
              "    .dataframe tbody tr th:only-of-type {\n",
              "        vertical-align: middle;\n",
              "    }\n",
              "\n",
              "    .dataframe tbody tr th {\n",
              "        vertical-align: top;\n",
              "    }\n",
              "\n",
              "    .dataframe thead th {\n",
              "        text-align: right;\n",
              "    }\n",
              "</style>\n",
              "<table border=\"1\" class=\"dataframe\">\n",
              "  <thead>\n",
              "    <tr style=\"text-align: right;\">\n",
              "      <th></th>\n",
              "      <th>carat</th>\n",
              "      <th>depth</th>\n",
              "      <th>table</th>\n",
              "      <th>price</th>\n",
              "      <th>x</th>\n",
              "      <th>y</th>\n",
              "      <th>z</th>\n",
              "    </tr>\n",
              "  </thead>\n",
              "  <tbody>\n",
              "    <tr>\n",
              "      <th>0</th>\n",
              "      <td>0.23</td>\n",
              "      <td>61.5</td>\n",
              "      <td>55.0</td>\n",
              "      <td>326</td>\n",
              "      <td>3.95</td>\n",
              "      <td>3.98</td>\n",
              "      <td>2.43</td>\n",
              "    </tr>\n",
              "    <tr>\n",
              "      <th>1</th>\n",
              "      <td>0.21</td>\n",
              "      <td>59.8</td>\n",
              "      <td>61.0</td>\n",
              "      <td>326</td>\n",
              "      <td>3.89</td>\n",
              "      <td>3.84</td>\n",
              "      <td>2.31</td>\n",
              "    </tr>\n",
              "    <tr>\n",
              "      <th>2</th>\n",
              "      <td>0.23</td>\n",
              "      <td>56.9</td>\n",
              "      <td>65.0</td>\n",
              "      <td>327</td>\n",
              "      <td>4.05</td>\n",
              "      <td>4.07</td>\n",
              "      <td>2.31</td>\n",
              "    </tr>\n",
              "    <tr>\n",
              "      <th>3</th>\n",
              "      <td>0.29</td>\n",
              "      <td>62.4</td>\n",
              "      <td>58.0</td>\n",
              "      <td>334</td>\n",
              "      <td>4.20</td>\n",
              "      <td>4.23</td>\n",
              "      <td>2.63</td>\n",
              "    </tr>\n",
              "    <tr>\n",
              "      <th>4</th>\n",
              "      <td>0.31</td>\n",
              "      <td>63.3</td>\n",
              "      <td>58.0</td>\n",
              "      <td>335</td>\n",
              "      <td>4.34</td>\n",
              "      <td>4.35</td>\n",
              "      <td>2.75</td>\n",
              "    </tr>\n",
              "  </tbody>\n",
              "</table>\n",
              "</div>\n",
              "      <button class=\"colab-df-convert\" onclick=\"convertToInteractive('df-87976e84-28d5-49d4-8a0d-b3250797d906')\"\n",
              "              title=\"Convert this dataframe to an interactive table.\"\n",
              "              style=\"display:none;\">\n",
              "        \n",
              "  <svg xmlns=\"http://www.w3.org/2000/svg\" height=\"24px\"viewBox=\"0 0 24 24\"\n",
              "       width=\"24px\">\n",
              "    <path d=\"M0 0h24v24H0V0z\" fill=\"none\"/>\n",
              "    <path d=\"M18.56 5.44l.94 2.06.94-2.06 2.06-.94-2.06-.94-.94-2.06-.94 2.06-2.06.94zm-11 1L8.5 8.5l.94-2.06 2.06-.94-2.06-.94L8.5 2.5l-.94 2.06-2.06.94zm10 10l.94 2.06.94-2.06 2.06-.94-2.06-.94-.94-2.06-.94 2.06-2.06.94z\"/><path d=\"M17.41 7.96l-1.37-1.37c-.4-.4-.92-.59-1.43-.59-.52 0-1.04.2-1.43.59L10.3 9.45l-7.72 7.72c-.78.78-.78 2.05 0 2.83L4 21.41c.39.39.9.59 1.41.59.51 0 1.02-.2 1.41-.59l7.78-7.78 2.81-2.81c.8-.78.8-2.07 0-2.86zM5.41 20L4 18.59l7.72-7.72 1.47 1.35L5.41 20z\"/>\n",
              "  </svg>\n",
              "      </button>\n",
              "      \n",
              "  <style>\n",
              "    .colab-df-container {\n",
              "      display:flex;\n",
              "      flex-wrap:wrap;\n",
              "      gap: 12px;\n",
              "    }\n",
              "\n",
              "    .colab-df-convert {\n",
              "      background-color: #E8F0FE;\n",
              "      border: none;\n",
              "      border-radius: 50%;\n",
              "      cursor: pointer;\n",
              "      display: none;\n",
              "      fill: #1967D2;\n",
              "      height: 32px;\n",
              "      padding: 0 0 0 0;\n",
              "      width: 32px;\n",
              "    }\n",
              "\n",
              "    .colab-df-convert:hover {\n",
              "      background-color: #E2EBFA;\n",
              "      box-shadow: 0px 1px 2px rgba(60, 64, 67, 0.3), 0px 1px 3px 1px rgba(60, 64, 67, 0.15);\n",
              "      fill: #174EA6;\n",
              "    }\n",
              "\n",
              "    [theme=dark] .colab-df-convert {\n",
              "      background-color: #3B4455;\n",
              "      fill: #D2E3FC;\n",
              "    }\n",
              "\n",
              "    [theme=dark] .colab-df-convert:hover {\n",
              "      background-color: #434B5C;\n",
              "      box-shadow: 0px 1px 3px 1px rgba(0, 0, 0, 0.15);\n",
              "      filter: drop-shadow(0px 1px 2px rgba(0, 0, 0, 0.3));\n",
              "      fill: #FFFFFF;\n",
              "    }\n",
              "  </style>\n",
              "\n",
              "      <script>\n",
              "        const buttonEl =\n",
              "          document.querySelector('#df-87976e84-28d5-49d4-8a0d-b3250797d906 button.colab-df-convert');\n",
              "        buttonEl.style.display =\n",
              "          google.colab.kernel.accessAllowed ? 'block' : 'none';\n",
              "\n",
              "        async function convertToInteractive(key) {\n",
              "          const element = document.querySelector('#df-87976e84-28d5-49d4-8a0d-b3250797d906');\n",
              "          const dataTable =\n",
              "            await google.colab.kernel.invokeFunction('convertToInteractive',\n",
              "                                                     [key], {});\n",
              "          if (!dataTable) return;\n",
              "\n",
              "          const docLinkHtml = 'Like what you see? Visit the ' +\n",
              "            '<a target=\"_blank\" href=https://colab.research.google.com/notebooks/data_table.ipynb>data table notebook</a>'\n",
              "            + ' to learn more about interactive tables.';\n",
              "          element.innerHTML = '';\n",
              "          dataTable['output_type'] = 'display_data';\n",
              "          await google.colab.output.renderOutput(dataTable, element);\n",
              "          const docLink = document.createElement('div');\n",
              "          docLink.innerHTML = docLinkHtml;\n",
              "          element.appendChild(docLink);\n",
              "        }\n",
              "      </script>\n",
              "    </div>\n",
              "  </div>\n",
              "  "
            ]
          },
          "metadata": {},
          "execution_count": 5
        }
      ]
    },
    {
      "cell_type": "code",
      "source": [
        "X_train, X_test, y_train, y_test = train_test_split(df.drop('price', axis=1), df['price'], test_size=0.25, random_state=1)"
      ],
      "metadata": {
        "id": "gXzUH06SK5zd"
      },
      "id": "gXzUH06SK5zd",
      "execution_count": 6,
      "outputs": []
    },
    {
      "cell_type": "code",
      "source": [
        "lr = LinearRegression()\n",
        "lr.fit(X_train, y_train)\n",
        "pred_price_lr = lr.predict(X_test)\n",
        "pred_price_lr_sub = np.abs(pred_price_lr - y_test)\n",
        "pred_price_lr_sub.describe()"
      ],
      "metadata": {
        "colab": {
          "base_uri": "https://localhost:8080/"
        },
        "id": "qo6yGpO_LNet",
        "outputId": "f5da1f73-6817-4ceb-cb70-77d0900b35e9"
      },
      "id": "qo6yGpO_LNet",
      "execution_count": 7,
      "outputs": [
        {
          "output_type": "execute_result",
          "data": {
            "text/plain": [
              "count    13485.000000\n",
              "mean       890.376400\n",
              "std       1161.068461\n",
              "min          0.035915\n",
              "25%        208.160385\n",
              "50%        485.297677\n",
              "75%       1098.149270\n",
              "max      18239.846360\n",
              "Name: price, dtype: float64"
            ]
          },
          "metadata": {},
          "execution_count": 7
        }
      ]
    },
    {
      "cell_type": "code",
      "source": [
        "rf = RandomForestRegressor(n_estimators=10, random_state=1)\n",
        "rf.fit(X_train, y_train)\n",
        "pred_price_rf = rf.predict(X_test)\n",
        "pred_price_rf_sub = np.abs(pred_price_rf - y_test)\n",
        "pred_price_rf_sub.describe()"
      ],
      "metadata": {
        "colab": {
          "base_uri": "https://localhost:8080/"
        },
        "id": "vlaEY0lBLfGU",
        "outputId": "98726a8f-c12a-4669-84e2-ebaa552e1e6e"
      },
      "id": "vlaEY0lBLfGU",
      "execution_count": 8,
      "outputs": [
        {
          "output_type": "execute_result",
          "data": {
            "text/plain": [
              "count    13485.000000\n",
              "mean       802.920517\n",
              "std       1153.425557\n",
              "min          0.000000\n",
              "25%        120.925000\n",
              "50%        320.600000\n",
              "75%        977.000000\n",
              "max      12443.600000\n",
              "Name: price, dtype: float64"
            ]
          },
          "metadata": {},
          "execution_count": 8
        }
      ]
    },
    {
      "cell_type": "code",
      "source": [
        "print(stats.ttest_rel(pred_price_lr_sub, pred_price_rf_sub))\n",
        "p_value = stats.ttest_rel(pred_price_lr_sub, pred_price_rf_sub).pvalue\n",
        "alpha = 0.05\n",
        "if p_value < alpha:\n",
        "    print(\"\\nH0 is rejected\")\n",
        "else:\n",
        "    print(\"\\nH0 is not rejected\")"
      ],
      "metadata": {
        "colab": {
          "base_uri": "https://localhost:8080/"
        },
        "id": "5Q9fbZFyLmGf",
        "outputId": "03aeabd6-53dd-4a75-e106-0e8c623fa3c9"
      },
      "id": "5Q9fbZFyLmGf",
      "execution_count": 9,
      "outputs": [
        {
          "output_type": "stream",
          "name": "stdout",
          "text": [
            "TtestResult(statistic=13.017729783878442, pvalue=1.6551745751438363e-38, df=13484)\n",
            "\n",
            "H0 is rejected\n"
          ]
        }
      ]
    },
    {
      "cell_type": "markdown",
      "id": "3afb5481",
      "metadata": {
        "id": "3afb5481"
      },
      "source": [
        "**7**. В предыдущей задаче посчитайте 95% доверительный интервал для разности средних абсолютных ошибок предсказаний регрессии и случайного леса. Чему равна его ближайшая к нулю граница? Округлите до десятков (поскольку случайный лес может давать немного разные предсказания в зависимости от версий библиотек, мы просим вас так сильно округлить, чтобы полученное значение наверняка совпало с нашим)."
      ]
    },
    {
      "cell_type": "code",
      "execution_count": null,
      "id": "7ec9c617",
      "metadata": {
        "id": "7ec9c617"
      },
      "outputs": [],
      "source": [
        "# 7. Your answer here"
      ]
    },
    {
      "cell_type": "code",
      "source": [
        "print (\"95% confidence interval: \", DescrStatsW(pred_price_lr_sub - pred_price_rf_sub).tconfint_mean(), \"\\nlower bound: \", round(DescrStatsW(pred_price_lr_sub - pred_price_rf_sub).tconfint_mean()[0], 1))"
      ],
      "metadata": {
        "colab": {
          "base_uri": "https://localhost:8080/"
        },
        "id": "KkVCg1N8Lu-p",
        "outputId": "e9ac06a0-80b0-45ab-ec79-43d182c8a233"
      },
      "id": "KkVCg1N8Lu-p",
      "execution_count": 10,
      "outputs": [
        {
          "output_type": "stream",
          "name": "stdout",
          "text": [
            "95% confidence interval:  (74.28724532595373, 100.62452098634228) \n",
            "lower bound:  74.3\n"
          ]
        }
      ]
    },
    {
      "cell_type": "markdown",
      "id": "e9bca597",
      "metadata": {
        "id": "e9bca597"
      },
      "source": [
        "**8**. Существуют две версии одновыборочного Z-критерия для доли, отличающихся формулами для статистики. Одна из этих версий более точная, поэтому мы говорили только о ней, а вторую не обсуждали вообще. Какую из этих двух версий одновыборочных Z-критериев для доли мы проходили?\n",
        "\n",
        "1. Версия множителей Лагранжа со статистикой $Z=\\frac{\\hat{p}-p_o}{\\sqrt{\\frac{p_o(1-p_o)}{n}}}$\n",
        "\n",
        "2. Версия Вальда со статистикой $Z=\\frac{\\hat{p}-p_o}{\\sqrt{\\frac{\\hat{p}(1-\\hat{p})}{n}}}$"
      ]
    },
    {
      "cell_type": "code",
      "execution_count": null,
      "id": "a7a0c1f5",
      "metadata": {
        "id": "a7a0c1f5"
      },
      "outputs": [],
      "source": [
        "# 8. Your answer here\n",
        "# 1"
      ]
    },
    {
      "cell_type": "markdown",
      "id": "f3fa4143",
      "metadata": {
        "id": "f3fa4143"
      },
      "source": [
        "**9**. В одном из выпусков программы \"Разрушители легенд\" проверялось, действительно ли заразительна зевота. В эксперименте участвовало 50 испытуемых, проходивших собеседование на программу. Каждый из них разговаривал с рекрутером; в конце 34 из 50 бесед рекрутер зевал. Затем испытуемых просили подождать решения рекрутера в соседней пустой комнате. \n",
        "\n",
        "Во время ожидания 10 из 34 испытуемых экспериментальной группы и 4 из 16 испытуемых контрольной начали зевать. Таким образом, разница в доле зевающих людей в этих двух группах составила примерно 4.4%. Ведущие заключили, что миф о заразительности зевоты подтверждён. \n",
        "\n",
        "Можно ли утверждать, что доли зевающих в контрольной и экспериментальной группах отличаются статистически значимо? Посчитайте достигаемый уровень значимости при альтернативе заразительности зевоты, округлите до четырёх знаков после десятичной точки."
      ]
    },
    {
      "cell_type": "code",
      "execution_count": null,
      "id": "374b28bf",
      "metadata": {
        "id": "374b28bf"
      },
      "outputs": [],
      "source": [
        "# 9. Your answer here"
      ]
    },
    {
      "cell_type": "code",
      "source": [
        "from statsmodels.stats.proportion import proportions_ztest"
      ],
      "metadata": {
        "id": "q92LgJb6L-0_"
      },
      "id": "q92LgJb6L-0_",
      "execution_count": 11,
      "outputs": []
    },
    {
      "cell_type": "code",
      "execution_count": 12,
      "id": "19280c7c",
      "metadata": {
        "colab": {
          "base_uri": "https://localhost:8080/"
        },
        "id": "19280c7c",
        "outputId": "392a085d-74b8-437e-de27-a19a694bea9e"
      },
      "outputs": [
        {
          "output_type": "stream",
          "name": "stdout",
          "text": [
            "p-value: 0.7459\n",
            "\n",
            "H0 is not rejected.\n"
          ]
        }
      ],
      "source": [
        "n_train, n_test = 34, 16\n",
        "y_train, y_test = 10, 4\n",
        "\n",
        "prop_train = y_train / n_train\n",
        "prop_test = y_test / n_test\n",
        "\n",
        "pooled_prop = (y_train + y_test) / (n_train + n_test)\n",
        "\n",
        "p_value = proportions_ztest([y_train, y_test], [n_train, n_test], alternative='two-sided')[1]\n",
        "print(f\"p-value: {p_value:.4f}\")\n",
        "\n",
        "if p_value < 0.05:\n",
        "    print(\"\\nH0 is rejected.\")\n",
        "\n",
        "else:\n",
        "    print(\"\\nH0 is not rejected.\")"
      ]
    },
    {
      "cell_type": "code",
      "source": [],
      "metadata": {
        "id": "EUGnmSYQMDnQ"
      },
      "id": "EUGnmSYQMDnQ",
      "execution_count": null,
      "outputs": []
    }
  ],
  "metadata": {
    "kernelspec": {
      "display_name": "stats",
      "language": "python",
      "name": "stats"
    },
    "language_info": {
      "codemirror_mode": {
        "name": "ipython",
        "version": 3
      },
      "file_extension": ".py",
      "mimetype": "text/x-python",
      "name": "python",
      "nbconvert_exporter": "python",
      "pygments_lexer": "ipython3",
      "version": "3.10.8"
    },
    "colab": {
      "provenance": []
    }
  },
  "nbformat": 4,
  "nbformat_minor": 5
}